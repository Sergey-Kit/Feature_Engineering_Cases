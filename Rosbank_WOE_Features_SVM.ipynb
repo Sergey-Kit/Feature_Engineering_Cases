{
 "cells": [
  {
   "cell_type": "code",
   "execution_count": 82,
   "metadata": {},
   "outputs": [],
   "source": [
    "import pandas as pd\n",
    "import numpy as np\n",
    "import matplotlib.pyplot as plt\n",
    "%matplotlib inline\n",
    "from tqdm import tqdm\n",
    "pd.set_option('display.max_columns', 500)\n",
    "\n",
    "from sklearn.model_selection import KFold\n",
    "from sklearn.model_selection import GridSearchCV\n",
    "from sklearn.linear_model import LogisticRegression\n",
    "from sklearn.metrics import precision_score\n",
    "from sklearn.metrics import f1_score\n",
    "from sklearn.metrics import accuracy_score\n",
    "from sklearn.metrics import r2_score\n",
    "from sklearn.metrics import average_precision_score\n",
    "from sklearn.metrics import recall_score"
   ]
  },
  {
   "cell_type": "code",
   "execution_count": 83,
   "metadata": {},
   "outputs": [
    {
     "name": "stdout",
     "output_type": "stream",
     "text": [
      "<class 'pandas.core.frame.DataFrame'>\n",
      "RangeIndex: 490513 entries, 0 to 490512\n",
      "Data columns (total 9 columns):\n",
      " #   Column        Non-Null Count   Dtype  \n",
      "---  ------        --------------   -----  \n",
      " 0   PERIOD        490513 non-null  object \n",
      " 1   cl_id         490513 non-null  int64  \n",
      " 2   MCC           490513 non-null  int64  \n",
      " 3   channel_type  490513 non-null  object \n",
      " 4   currency      490513 non-null  int64  \n",
      " 5   TRDATETIME    490513 non-null  object \n",
      " 6   amount        490513 non-null  float64\n",
      " 7   trx_category  490513 non-null  object \n",
      " 8   target_flag   490513 non-null  int64  \n",
      "dtypes: float64(1), int64(4), object(4)\n",
      "memory usage: 33.7+ MB\n"
     ]
    }
   ],
   "source": [
    "raw_df = pd.read_csv('rosbank_train.csv')\n",
    "raw_df['channel_type'] = raw_df['channel_type'].fillna('type0')\n",
    "raw_df.drop(['target_sum'], axis=1,inplace=True)\n",
    "raw_df['target_flag'].value_counts()\n",
    "raw_df.info()\n",
    "cl_ids_test = np.random.choice(raw_df.cl_id.unique(), size=1000, replace=False)\n",
    "cl_ids_test_set = set(cl_ids_test)"
   ]
  },
  {
   "cell_type": "code",
   "execution_count": 84,
   "metadata": {},
   "outputs": [
    {
     "name": "stdout",
     "output_type": "stream",
     "text": [
      "Total transactions in train dataset:  388459\n",
      "Total transactions in test dataset:  102054\n"
     ]
    }
   ],
   "source": [
    "# create transactions dataset for train\n",
    "transactions_train = raw_df[~raw_df.cl_id.isin(cl_ids_test)].copy()\n",
    "print(\"Total transactions in train dataset: \", len(transactions_train))\n",
    "# create transactions dataset for test\n",
    "transactions_test = raw_df[raw_df.cl_id.isin(cl_ids_test)].copy()\n",
    "print(\"Total transactions in test dataset: \", len(transactions_test))"
   ]
  },
  {
   "cell_type": "markdown",
   "metadata": {},
   "source": [
    "#### Working with currency rates"
   ]
  },
  {
   "cell_type": "code",
   "execution_count": 85,
   "metadata": {},
   "outputs": [
    {
     "name": "stdout",
     "output_type": "stream",
     "text": [
      "(249, 2)\n"
     ]
    }
   ],
   "source": [
    "codes = pd.read_csv('./codes-all.csv')\n",
    "codes = codes[['NumericCode','AlphabeticCode']]\n",
    "codes.columns = ['currency','AlphabeticCode']\n",
    "codes = codes.dropna().reset_index(drop=True)\n",
    "codes['currency'] = codes['currency'].astype('int')\n",
    "codes = codes.drop_duplicates(subset=['currency']).reset_index(drop=True)\n",
    "print(codes.shape)"
   ]
  },
  {
   "cell_type": "code",
   "execution_count": 86,
   "metadata": {},
   "outputs": [],
   "source": [
    "transactions_train = pd.merge(transactions_train, codes, how='left', on = 'currency')\n",
    "transactions_test = pd.merge(transactions_test, codes, how='left', on = 'currency')"
   ]
  },
  {
   "cell_type": "code",
   "execution_count": 87,
   "metadata": {},
   "outputs": [],
   "source": [
    "curr = pd.read_csv('./curr.csv')\n",
    "curr['CLOSE'] = curr['CLOSE'] / curr['NOMINAL']\n",
    "curr = curr[['TICKER','DATE','CLOSE']]\n",
    "curr.columns = ['AlphabeticCode','time','CLOSE']\n",
    "curr['time'] = pd.to_datetime(curr['time'])"
   ]
  },
  {
   "cell_type": "markdown",
   "metadata": {},
   "source": [
    "### Transaction amount into neg/pos values "
   ]
  },
  {
   "cell_type": "code",
   "execution_count": 88,
   "metadata": {},
   "outputs": [
    {
     "name": "stderr",
     "output_type": "stream",
     "text": [
      "<ipython-input-88-823ca6a1d665>:3: SettingWithCopyWarning: \n",
      "A value is trying to be set on a copy of a slice from a DataFrame\n",
      "\n",
      "See the caveats in the documentation: https://pandas.pydata.org/pandas-docs/stable/user_guide/indexing.html#returning-a-view-versus-a-copy\n",
      "  transactions_train['amount'][ind] = abs(transactions_train['amount'][ind])\n",
      "<ipython-input-88-823ca6a1d665>:7: SettingWithCopyWarning: \n",
      "A value is trying to be set on a copy of a slice from a DataFrame\n",
      "\n",
      "See the caveats in the documentation: https://pandas.pydata.org/pandas-docs/stable/user_guide/indexing.html#returning-a-view-versus-a-copy\n",
      "  transactions_test['amount'][ind] = abs(transactions_test['amount'][ind])\n"
     ]
    }
   ],
   "source": [
    "transactions_train['amount'] = -transactions_train['amount']\n",
    "ind = (transactions_train['trx_category']=='C2C_IN') | (transactions_train['trx_category']=='DEPOSIT') | (transactions_train['trx_category']=='BACK_TRX')\n",
    "transactions_train['amount'][ind] = abs(transactions_train['amount'][ind])\n",
    "\n",
    "transactions_test['amount'] = -transactions_test['amount']\n",
    "ind = (transactions_test['trx_category']=='C2C_IN') | (transactions_test['trx_category']=='DEPOSIT') | (transactions_test['trx_category']=='BACK_TRX')\n",
    "transactions_test['amount'][ind] = abs(transactions_test['amount'][ind])"
   ]
  },
  {
   "cell_type": "code",
   "execution_count": 89,
   "metadata": {},
   "outputs": [
    {
     "name": "stderr",
     "output_type": "stream",
     "text": [
      "D:\\Anaconda\\lib\\site-packages\\sklearn\\utils\\validation.py:72: DataConversionWarning: A column-vector y was passed when a 1d array was expected. Please change the shape of y to (n_samples, ), for example using ravel().\n",
      "  return f(**kwargs)\n"
     ]
    }
   ],
   "source": [
    "from sklearn.preprocessing import LabelEncoder\n",
    "cat_cols = ['channel_type','trx_category']\n",
    "for i in ['channel_type','trx_category']:\n",
    "    le = LabelEncoder()\n",
    "    le.fit( pd.concat([transactions_train[[i]], transactions_test[[i]]], axis=0) )\n",
    "    transactions_train[i] = le.transform(transactions_train[i])\n",
    "    transactions_test[i] = le.transform(transactions_test[i])"
   ]
  },
  {
   "cell_type": "code",
   "execution_count": 90,
   "metadata": {},
   "outputs": [],
   "source": [
    "dt_dict = {\n",
    "    'JAN':'01',\n",
    "    'FEB':'02',\n",
    "    'MAR':'03',\n",
    "    'APR':'04',\n",
    "    'MAY':'05', \n",
    "    'JUN':'06',  \n",
    "    'JUL':'07',\n",
    "    'AUG':'08',\n",
    "    'SEP':'09',\n",
    "    'OCT':'10',\n",
    "    'NOV':'11', \n",
    "    'DEC':'12',   \n",
    "}"
   ]
  },
  {
   "cell_type": "code",
   "execution_count": 91,
   "metadata": {},
   "outputs": [],
   "source": [
    "def dt_preprocess1(t):\n",
    "    day = t[0:2]\n",
    "    month = dt_dict[t[2:5]]\n",
    "    year = t[5:7]\n",
    "    \n",
    "    hour = t[8:10]\n",
    "    minute = t[11:13]\n",
    "    second = t[14:]\n",
    "    \n",
    "    return '20'+str(year)+'-'+str(month)+'-'+str(day)"
   ]
  },
  {
   "cell_type": "code",
   "execution_count": 92,
   "metadata": {},
   "outputs": [],
   "source": [
    "transactions_train['time'] = transactions_train['TRDATETIME'].apply(lambda x: dt_preprocess1(x))\n",
    "transactions_train['time'] = pd.to_datetime(transactions_train['time'])\n",
    "transactions_test['time'] = transactions_test['TRDATETIME'].apply(lambda x: dt_preprocess1(x))\n",
    "transactions_test['time'] = pd.to_datetime(transactions_train['time'])"
   ]
  },
  {
   "cell_type": "code",
   "execution_count": 93,
   "metadata": {},
   "outputs": [],
   "source": [
    "def dt_preprocess(t):\n",
    "    day = t[0:2]\n",
    "    month = dt_dict[t[2:5]]\n",
    "    year = t[5:7]\n",
    "    \n",
    "    hour = t[8:10]\n",
    "    minute = t[11:13]\n",
    "    second = t[14:]\n",
    "    \n",
    "    return '20'+str(year)+'-'+str(month)+'-'+str(day)+' '+str(hour)+\":\"+str(minute)+':'+str(second)"
   ]
  },
  {
   "cell_type": "code",
   "execution_count": 94,
   "metadata": {},
   "outputs": [],
   "source": [
    "transactions_train['TRDATETIME'] = transactions_train['TRDATETIME'].apply(lambda x: dt_preprocess(x))\n",
    "transactions_train['TRDATETIME'] = pd.to_datetime(transactions_train['TRDATETIME'])\n",
    "transactions_test['TRDATETIME'] = transactions_test['TRDATETIME'].apply(lambda x: dt_preprocess(x))\n",
    "transactions_test['TRDATETIME'] = pd.to_datetime(transactions_test['TRDATETIME'])"
   ]
  },
  {
   "cell_type": "code",
   "execution_count": 95,
   "metadata": {},
   "outputs": [],
   "source": [
    "transactions_train['month'] = transactions_train['TRDATETIME'].dt.month + (transactions_train['TRDATETIME'].dt.year-2016)*12\n",
    "transactions_test['month'] = transactions_test['TRDATETIME'].dt.month + (transactions_test['TRDATETIME'].dt.year-2016)*12\n",
    "\n",
    "transactions_train['days_since2015'] = (transactions_train['TRDATETIME'] - pd.to_datetime('2015-01-01')).dt.days\n",
    "transactions_test['days_since2015'] = (transactions_test['TRDATETIME'] - pd.to_datetime('2015-01-01')).dt.days"
   ]
  },
  {
   "cell_type": "code",
   "execution_count": 96,
   "metadata": {},
   "outputs": [],
   "source": [
    "transactions_test = pd.merge(transactions_test, curr, how='left', on=['AlphabeticCode','time'])\n",
    "transactions_train = pd.merge(transactions_train, curr, how='left', on=['AlphabeticCode','time'])"
   ]
  },
  {
   "cell_type": "code",
   "execution_count": 97,
   "metadata": {},
   "outputs": [],
   "source": [
    "transactions_train['CLOSE'] = transactions_train['CLOSE'].fillna(1)\n",
    "transactions_train['amount'] = transactions_train['amount'] * transactions_train['CLOSE']\n",
    "transactions_train = transactions_train.drop(['currency', 'AlphabeticCode', 'CLOSE','time'], axis=1)\n",
    "transactions_test['CLOSE'] = transactions_test['CLOSE'].fillna(1)\n",
    "transactions_test['amount'] = transactions_test['amount'] * transactions_test['CLOSE']\n",
    "transactions_test = transactions_test.drop(['currency', 'AlphabeticCode', 'CLOSE','time'], axis=1)"
   ]
  },
  {
   "cell_type": "markdown",
   "metadata": {},
   "source": [
    "### Создание DF по клиентам  + Фича времени в работе"
   ]
  },
  {
   "cell_type": "code",
   "execution_count": 98,
   "metadata": {},
   "outputs": [],
   "source": [
    "def diff_monthes(x):\n",
    "    a = np.max(x) - np.min(x)\n",
    "    return a.days\n",
    "\n",
    "sum_deals = transactions_train[['cl_id','TRDATETIME']].groupby('cl_id').agg(diff_monthes).reset_index()\n",
    "sum_deals.columns = ['cl_id','num_days_in_use']\n",
    "df_train =  sum_deals\n",
    "\n",
    "sum_deals = transactions_test[['cl_id','TRDATETIME']].groupby('cl_id').agg(diff_monthes).reset_index()\n",
    "sum_deals.columns = ['cl_id','num_days_in_use']\n",
    "df_test =  sum_deals"
   ]
  },
  {
   "cell_type": "markdown",
   "metadata": {},
   "source": [
    "### Разложение Weights of Evidence (WOE) фичи MCC кодов"
   ]
  },
  {
   "cell_type": "code",
   "execution_count": 99,
   "metadata": {},
   "outputs": [],
   "source": [
    "def get_woe_v1(df_train, df_test, col, target_col):\n",
    "    all_good = len(df_train[df_train[target_col] == 1][col])\n",
    "    all_bad = len(df_train[df_train[target_col] == 0][col])\n",
    "    odds_series = (\n",
    "        df_train[df_train[target_col] == 1][col].value_counts()\n",
    "        /\n",
    "        df_train[df_train[target_col] == 0][col].value_counts()\n",
    "    )\n",
    "    odds_series = odds_series / all_good * all_bad\n",
    "    category_woe_dict = np.log(odds_series).to_dict()\n",
    "    df_train[col + '_woe'] = df_train[col].apply(category_woe_dict.get)\n",
    "    df_test[col + '_woe'] = df_test[col].apply(category_woe_dict.get)\n",
    "    return df_train, df_test"
   ]
  },
  {
   "cell_type": "code",
   "execution_count": 100,
   "metadata": {},
   "outputs": [],
   "source": [
    "columns_to_get_counts = [\n",
    "    'trx_category',\n",
    "    'MCC',\n",
    "    'channel_type'\n",
    "]\n",
    "    \n",
    "for col_get_prob in columns_to_get_counts:\n",
    "    transactions_train, transactions_test = get_woe_v1(transactions_train, transactions_test, col_get_prob, 'target_flag')"
   ]
  },
  {
   "cell_type": "markdown",
   "metadata": {},
   "source": [
    "##### Средние значения по MCC и каналу привлечения"
   ]
  },
  {
   "cell_type": "code",
   "execution_count": 101,
   "metadata": {},
   "outputs": [
    {
     "name": "stderr",
     "output_type": "stream",
     "text": [
      "100%|████████████████████████████████████████████| 3/3 [00:01<00:00,  1.77it/s]\n",
      "100%|████████████████████████████████████████████| 3/3 [00:00<00:00,  6.92it/s]\n"
     ]
    }
   ],
   "source": [
    "from scipy.stats import mode\n",
    "def mmode(x):\n",
    "    return mode(x)[0][0]\n",
    "\n",
    "for i in tqdm(['trx_category_woe', 'MCC_woe', 'channel_type_woe']):\n",
    "    temp = transactions_train[['cl_id',i]].groupby('cl_id').agg(mmode).reset_index()\n",
    "    \n",
    "    temp = pd.DataFrame(temp.values)\n",
    "    new_cols = ['cl_id',i]\n",
    "\n",
    "    temp.columns = new_cols\n",
    "    df = temp\n",
    "    df_train = pd.merge(df_train, temp, how='left', on='cl_id')\n",
    "    \n",
    "for i in tqdm(['trx_category_woe', 'MCC_woe', 'channel_type_woe']):\n",
    "    temp = transactions_test[['cl_id',i]].groupby('cl_id').agg(mmode).reset_index()\n",
    "    \n",
    "    temp = pd.DataFrame(temp.values)\n",
    "    new_cols = ['cl_id',i]\n",
    "\n",
    "    temp.columns = new_cols\n",
    "    df = temp\n",
    "    df_test = pd.merge(df_test, temp, how='left', on='cl_id')"
   ]
  },
  {
   "cell_type": "code",
   "execution_count": 102,
   "metadata": {},
   "outputs": [],
   "source": [
    "num_deals = transactions_train[['cl_id','amount']].groupby('cl_id').agg('count').reset_index()\n",
    "num_deals.columns = ['cl_id','num_deals']\n",
    "df_train = pd.merge(df_train, num_deals, how='left', on='cl_id')\n",
    "\n",
    "sum_deals = transactions_train[['cl_id','amount']].groupby('cl_id').agg('sum').reset_index()\n",
    "sum_deals.columns = ['cl_id','sum_deals']\n",
    "df_train = pd.merge(df_train, sum_deals, how='left', on='cl_id')"
   ]
  },
  {
   "cell_type": "code",
   "execution_count": 103,
   "metadata": {},
   "outputs": [],
   "source": [
    "num_deals = transactions_test[['cl_id','amount']].groupby('cl_id').agg('count').reset_index()\n",
    "num_deals.columns = ['cl_id','num_deals']\n",
    "df_test = pd.merge(df_test, num_deals, how='left', on='cl_id')\n",
    "\n",
    "sum_deals = transactions_test[['cl_id','amount']].groupby('cl_id').agg('sum').reset_index()\n",
    "sum_deals.columns = ['cl_id','sum_deals']\n",
    "df_test = pd.merge(df_test, sum_deals, how='left', on='cl_id')"
   ]
  },
  {
   "cell_type": "code",
   "execution_count": 104,
   "metadata": {},
   "outputs": [],
   "source": [
    "test_y = transactions_test[['cl_id','target_flag']].groupby('cl_id').agg('mean').reset_index()\n",
    "test_y.columns = ['cl_id','target_flag']\n",
    "df_test = pd.merge(df_test, test_y, how='left', on='cl_id')\n",
    "\n",
    "train_y = transactions_train[['cl_id','target_flag']].groupby('cl_id').agg('mean').reset_index()\n",
    "train_y.columns = ['cl_id','target_flag']\n",
    "df_train = pd.merge(df_train, train_y, how='left', on='cl_id')"
   ]
  },
  {
   "cell_type": "markdown",
   "metadata": {},
   "source": [
    "### Разложение категорий транзакций"
   ]
  },
  {
   "cell_type": "code",
   "execution_count": 105,
   "metadata": {},
   "outputs": [
    {
     "name": "stderr",
     "output_type": "stream",
     "text": [
      "100%|██████████████████████████████████████████| 10/10 [00:00<00:00, 74.34it/s]\n",
      "100%|██████████████████████████████████████████| 10/10 [00:00<00:00, 41.92it/s]\n"
     ]
    }
   ],
   "source": [
    "to_agg = ['sum','mean','std','median','max','min','count']\n",
    "for j in tqdm(pd.unique(transactions_test['trx_category'])):\n",
    "    i = 'amount'\n",
    "    temp = transactions_test[transactions_test['trx_category']==j][['cl_id',i]].groupby('cl_id').agg(to_agg).reset_index().fillna(0)\n",
    "    new_cols = ['cl_id']\n",
    "    for p in range(1,temp.columns.shape[0]):\n",
    "        new_cols.append('trx_category'+'_'+str(j)+'_'+i+'_'+str(to_agg[p-1]))\n",
    "    temp.columns = new_cols\n",
    "    df_test = pd.merge(df_test, temp, how='left', on='cl_id')\n",
    "    \n",
    "for j in tqdm(pd.unique(transactions_train['trx_category'])):\n",
    "    i = 'amount'\n",
    "    temp = transactions_train[transactions_train['trx_category']==j][['cl_id',i]].groupby('cl_id').agg(to_agg).reset_index().fillna(0)\n",
    "    new_cols = ['cl_id']\n",
    "    for p in range(1,temp.columns.shape[0]):\n",
    "        new_cols.append('trx_category'+'_'+str(j)+'_'+i+'_'+str(to_agg[p-1]))\n",
    "    temp.columns = new_cols\n",
    "    df_train = pd.merge(df_train, temp, how='left', on='cl_id')"
   ]
  },
  {
   "cell_type": "markdown",
   "metadata": {},
   "source": [
    "### Работа с датами"
   ]
  },
  {
   "cell_type": "code",
   "execution_count": 106,
   "metadata": {},
   "outputs": [],
   "source": [
    "df_train = df_train.fillna(0)\n",
    "df_test = df_test.fillna(0)### Работа с датами"
   ]
  },
  {
   "cell_type": "code",
   "execution_count": 107,
   "metadata": {},
   "outputs": [],
   "source": [
    "month = transactions_train[['cl_id','month']].groupby('cl_id').mean().reset_index()\n",
    "month.columns = ['cl_id','month']\n",
    "df_train = pd.merge(df_train, month, how='left', on='cl_id')\n",
    "\n",
    "month = transactions_test[['cl_id','month']].groupby('cl_id').mean().reset_index()\n",
    "month.columns = ['cl_id','month']\n",
    "df_test = pd.merge(df_test, month, how='left', on='cl_id')\n",
    "\n",
    "days_since2015 = transactions_train[['cl_id','days_since2015']].groupby('cl_id').mean().reset_index()\n",
    "days_since2015.columns = ['cl_id','days_since2015']\n",
    "df_train = pd.merge(df_train, days_since2015, how='left', on='cl_id')\n",
    "\n",
    "days_since2015 = transactions_test[['cl_id','days_since2015']].groupby('cl_id').mean().reset_index()\n",
    "days_since2015.columns = ['cl_id','days_since2015']\n",
    "df_test = pd.merge(df_test, days_since2015, how='left', on='cl_id')"
   ]
  },
  {
   "cell_type": "markdown",
   "metadata": {},
   "source": [
    "### Работа над разложением MCC кодов на фичи и их разложение на главные компоненты"
   ]
  },
  {
   "cell_type": "code",
   "execution_count": 108,
   "metadata": {},
   "outputs": [
    {
     "name": "stderr",
     "output_type": "stream",
     "text": [
      "100%|████████████████████████████████████████| 325/325 [00:12<00:00, 25.24it/s]\n"
     ]
    }
   ],
   "source": [
    "for j in tqdm(pd.unique(transactions_train['MCC'])):\n",
    "    i = 'amount'\n",
    "    temp = transactions_train[transactions_train['MCC']==j][['cl_id',i]].groupby('cl_id').agg('sum').reset_index().fillna(0)\n",
    "    new_cols = ['cl_id']\n",
    "    for p in range(1,temp.columns.shape[0]):\n",
    "        new_cols.append('MCC'+'_'+str(j)+'_'+i+'_'+str(to_agg[p-1]))\n",
    "    temp.columns = new_cols\n",
    "    df_train = pd.merge(df_train, temp, how='left', on='cl_id')"
   ]
  },
  {
   "cell_type": "code",
   "execution_count": 109,
   "metadata": {},
   "outputs": [
    {
     "name": "stderr",
     "output_type": "stream",
     "text": [
      "100%|████████████████████████████████████████| 270/270 [00:07<00:00, 34.63it/s]\n"
     ]
    }
   ],
   "source": [
    "for j in tqdm(pd.unique(transactions_test['MCC'])):\n",
    "    i = 'amount'\n",
    "    temp = transactions_test[transactions_test['MCC']==j][['cl_id',i]].groupby('cl_id').agg('sum').reset_index().fillna(0)\n",
    "    new_cols = ['cl_id']\n",
    "    for p in range(1,temp.columns.shape[0]):\n",
    "        new_cols.append('MCC'+'_'+str(j)+'_'+i+'_'+str(to_agg[p-1]))\n",
    "    temp.columns = new_cols\n",
    "    df_test = pd.merge(df_test, temp, how='left', on='cl_id')"
   ]
  },
  {
   "cell_type": "code",
   "execution_count": 110,
   "metadata": {},
   "outputs": [],
   "source": [
    "df_train = df_train.fillna(0)\n",
    "df_test = df_test.fillna(0)"
   ]
  },
  {
   "cell_type": "code",
   "execution_count": 111,
   "metadata": {},
   "outputs": [],
   "source": [
    "df_train = df_train[df_train.columns & df_test.columns]\n",
    "df_test = df_train[df_train.columns & df_test.columns]"
   ]
  },
  {
   "cell_type": "code",
   "execution_count": 112,
   "metadata": {
    "scrolled": true
   },
   "outputs": [
    {
     "data": {
      "text/plain": [
       "target_flag                    1.000000\n",
       "channel_type_woe               0.377419\n",
       "num_days_in_use                0.275476\n",
       "num_deals                      0.244332\n",
       "trx_category_6_amount_count    0.230732\n",
       "                                 ...   \n",
       "MCC_4511_amount_sum           -0.101536\n",
       "trx_category_9_amount_min     -0.111150\n",
       "trx_category_5_amount_count   -0.112827\n",
       "MCC_5814_amount_sum           -0.179964\n",
       "cl_id                         -0.398544\n",
       "Name: target_flag, Length: 331, dtype: float64"
      ]
     },
     "execution_count": 112,
     "metadata": {},
     "output_type": "execute_result"
    }
   ],
   "source": [
    "corr_matrix = df_train.corr()\n",
    "corr = corr_matrix[\"target_flag\"].sort_values(ascending=False)\n",
    "corr"
   ]
  },
  {
   "cell_type": "code",
   "execution_count": 114,
   "metadata": {},
   "outputs": [],
   "source": [
    "def score(y,y_pred):\n",
    "    print('accuracy_score =', accuracy_score(y,y_pred))\n",
    "    print('precision_score =', precision_score(y,y_pred,average='weighted'))\n",
    "    print('recall_score =', recall_score(y,y_pred,average='weighted'))\n",
    "    print('f1_score =', f1_score(y,y_pred,average='weighted'))\n",
    "    print('r2_score =', r2_score(y,y_pred))"
   ]
  },
  {
   "cell_type": "markdown",
   "metadata": {},
   "source": [
    "### Scaling (не помогло)"
   ]
  },
  {
   "cell_type": "markdown",
   "metadata": {},
   "source": [
    "from sklearn.preprocessing import StandardScaler\n",
    "scale = StandardScaler()\n",
    "df_train_scale = scale.fit_transform(df_train.drop(['target_flag'],axis=1))\n",
    "df_test_scale = scale.fit_transform(df_test.drop(['target_flag'],axis=1))\n",
    "X_train = df_train_scale.drop(['target_flag'],axis=1)\n",
    "X_test = df_train_scale.drop(['target_flag'],axis=1)"
   ]
  },
  {
   "cell_type": "markdown",
   "metadata": {},
   "source": [
    "### PCA  (исключается , если использовать начальные фичи)"
   ]
  },
  {
   "cell_type": "code",
   "execution_count": 119,
   "metadata": {},
   "outputs": [],
   "source": [
    "from sklearn.decomposition import PCA\n",
    "pca = PCA().fit(df_train.fillna(0).drop(['cl_id'], axis=1))##### PCA  (исключается , если использовать начальные фичи)\n",
    "df_train_MCC_PCA = df_train.copy()\n",
    "df_test_MCC_PCA = df_test.copy()"
   ]
  },
  {
   "cell_type": "code",
   "execution_count": 120,
   "metadata": {
    "scrolled": true
   },
   "outputs": [
    {
     "data": {
      "text/plain": [
       "(0.9, 1.0)"
      ]
     },
     "execution_count": 120,
     "metadata": {},
     "output_type": "execute_result"
    },
    {
     "data": {
      "image/png": "[encoded data removed]",
      "text/plain": [
       "<Figure size 432x288 with 1 Axes>"
      ]
     },
     "metadata": {
      "needs_background": "light"
     },
     "output_type": "display_data"
    }
   ],
   "source": [
    "cum_evr = np.cumsum(pca.explained_variance_ratio_)\n",
    "xs = np.arange(cum_evr.size) + 1\n",
    "plt.plot(xs, cum_evr, linewidth=2)\n",
    "plt.grid()\n",
    "plt.xlabel('n_components')\n",
    "plt.ylabel('explained_variance_ratio_')\n",
    "plt.xlim([0, 20])\n",
    "plt.ylim([0.9, 1])"
   ]
  },
  {
   "cell_type": "code",
   "execution_count": 121,
   "metadata": {},
   "outputs": [],
   "source": [
    "pca = PCA(n_components=15)\n",
    "\n",
    "principalComponents = pca.fit_transform(df_train_MCC_PCA.fillna(0).drop(['cl_id'], axis=1))\n",
    "df_train_MCC_PCA = pd.DataFrame(data = principalComponents , columns = ['p_c_1', 'p_c_2','p_c_3', 'p_c_4','p_c_5', 'p_c_6','p_c_7', 'p_c_8','p_c_9', 'p_c_10','p_c_11', 'p_c_12','p_c_13','p_c_14','p_c_15'])\n",
    "df_train_MCC_PCA['cl_id'] = df_train['cl_id']\n",
    "\n",
    "principalComponents = pca.fit_transform(df_test_MCC_PCA.fillna(0).drop(['cl_id'], axis=1))\n",
    "df_test_MCC_PCA = pd.DataFrame(data = principalComponents , columns = ['p_c_1', 'p_c_2','p_c_3', 'p_c_4','p_c_5', 'p_c_6','p_c_7', 'p_c_8','p_c_9', 'p_c_10','p_c_11', 'p_c_12','p_c_13','p_c_14','p_c_15'])\n",
    "df_test_MCC_PCA['cl_id'] = df_test['cl_id']"
   ]
  },
  {
   "cell_type": "code",
   "execution_count": 122,
   "metadata": {},
   "outputs": [],
   "source": [
    "df_train = pd.merge(df_train, df_train_MCC_PCA, how='left', on='cl_id') # For using main components\n",
    "df_test = pd.merge(df_test, df_test_MCC_PCA, how='left', on='cl_id')"
   ]
  },
  {
   "cell_type": "code",
   "execution_count": 124,
   "metadata": {},
   "outputs": [],
   "source": [
    "df_train = df_train.fillna(0)\n",
    "df_test = df_test.fillna(0)"
   ]
  },
  {
   "cell_type": "markdown",
   "metadata": {},
   "source": [
    "### LogisticRegression"
   ]
  },
  {
   "cell_type": "code",
   "execution_count": 127,
   "metadata": {},
   "outputs": [],
   "source": [
    "log = LogisticRegression(max_iter=10000, n_jobs=-1)"
   ]
  },
  {
   "cell_type": "code",
   "execution_count": 128,
   "metadata": {},
   "outputs": [],
   "source": [
    "X_train = df_train.drop(['target_flag'],axis=1)\n",
    "y_train = df_train['target_flag']\n",
    "#X = X.to_numpy()"
   ]
  },
  {
   "cell_type": "markdown",
   "metadata": {},
   "source": [
    "#### Попробуй запусти на 2.5 часа"
   ]
  },
  {
   "cell_type": "markdown",
   "metadata": {},
   "source": [
    "kf = KFold(len(y),n_splits=10,shuffle=False)\n",
    "y_pred = y.copy()\n",
    "\n",
    "for train_index, test_index in tqdm(kf.split(X)):\n",
    "    X_train, X_test = X[train_index], X[test_index]\n",
    "    y_train = y[train_index]\n",
    "        \n",
    "    log.fit(X_train,y_train)\n",
    "    \n",
    "    solver = ['liblinear']\n",
    "    penalty = ['l1', 'l2']\n",
    "    C = np.logspace(0, 4, 10)\n",
    "    hyperparameters = dict(C=C, penalty=penalty,solver=solver)\n",
    "        \n",
    "    clf = GridSearchCV(log, hyperparameters, cv=10, verbose=0)\n",
    "        \n",
    "    best_model = clf.fit(X_train, y_train)\n",
    "\n",
    "    y_pred[test_index] = best_model.predict(X_test)"
   ]
  },
  {
   "cell_type": "markdown",
   "metadata": {},
   "source": [
    "penalty = ['l2']\n",
    "C = np.logspace(0, 4, 10)\n",
    "hyperparameters = dict(C=C, penalty=penalty)\n",
    "        \n",
    "clf = GridSearchCV(log, hyperparameters, cv=10, verbose=0)\n",
    "        \n",
    "best_model = clf.fit(X_train, y_train)\n",
    "\n",
    "y_pred[test_index] = best_model.predict(X_test)"
   ]
  },
  {
   "cell_type": "markdown",
   "metadata": {},
   "source": [
    "print(accuracy_score(y,y_pred))\n",
    "print(f1_score(y,y_pred,average='weighted'))\n",
    "print(precision_score(y,y_pred,average='weighted'))\n",
    "print(recall_score(y,y_pred,average='weighted'))\n",
    "print(r2_score(y,y_pred))"
   ]
  },
  {
   "cell_type": "markdown",
   "metadata": {},
   "source": [
    "### Lasso LogisticRegression"
   ]
  },
  {
   "cell_type": "code",
   "execution_count": 129,
   "metadata": {},
   "outputs": [],
   "source": [
    "X_train = df_train.drop(['target_flag'],axis=1)\n",
    "y_train = df_train['target_flag']\n",
    "X_test = df_test.drop(['target_flag'],axis=1)\n",
    "y = df_test['target_flag']"
   ]
  },
  {
   "cell_type": "markdown",
   "metadata": {},
   "source": [
    "##### Cross Validation"
   ]
  },
  {
   "cell_type": "markdown",
   "metadata": {},
   "source": [
    "penalty = ['l2','elasticnet']\n",
    "C = np.logspace(0, 4, 10)\n",
    "hyperparameters = dict(C=C, penalty=penalty)\n",
    "log = LogisticRegression(max_iter=10000)\n",
    "\n",
    "clf = GridSearchCV(log, hyperparameters, cv=10, verbose=0)\n",
    "        \n",
    "best_model = clf.fit(X_train, y_train)\n",
    "\n",
    "y_pred[test_index] = best_model.predict(X_test)"
   ]
  },
  {
   "cell_type": "code",
   "execution_count": 131,
   "metadata": {
    "scrolled": true
   },
   "outputs": [
    {
     "name": "stderr",
     "output_type": "stream",
     "text": [
      "D:\\Anaconda\\lib\\site-packages\\sklearn\\linear_model\\_logistic.py:1353: UserWarning: 'n_jobs' > 1 does not have any effect when 'solver' is set to 'liblinear'. Got 'n_jobs' = 4.\n",
      "  warnings.warn(\"'n_jobs' > 1 does not have any effect when\"\n",
      "D:\\Anaconda\\lib\\site-packages\\sklearn\\svm\\_base.py:976: ConvergenceWarning: Liblinear failed to converge, increase the number of iterations.\n",
      "  warnings.warn(\"Liblinear failed to converge, increase \"\n"
     ]
    },
    {
     "data": {
      "text/plain": [
       "LogisticRegression(max_iter=10000, n_jobs=-1, penalty='l1', solver='liblinear')"
      ]
     },
     "execution_count": 131,
     "metadata": {},
     "output_type": "execute_result"
    }
   ],
   "source": [
    "log = LogisticRegression( penalty='l1', solver='liblinear',max_iter=10000, n_jobs=4)\n",
    "log.fit(X_train,y_train)"
   ]
  },
  {
   "cell_type": "code",
   "execution_count": 132,
   "metadata": {},
   "outputs": [],
   "source": [
    "y_pred_Lasso = log.predict(X_test)"
   ]
  },
  {
   "cell_type": "code",
   "execution_count": 133,
   "metadata": {},
   "outputs": [
    {
     "data": {
      "text/plain": [
       "0.7655"
      ]
     },
     "execution_count": 133,
     "metadata": {},
     "output_type": "execute_result"
    }
   ],
   "source": [
    "accuracy_score(df_test[['target_flag']], y_pred_Lasso)"
   ]
  },
  {
   "cell_type": "code",
   "execution_count": 134,
   "metadata": {},
   "outputs": [
    {
     "data": {
      "text/plain": [
       "0.05501086032294844"
      ]
     },
     "execution_count": 134,
     "metadata": {},
     "output_type": "execute_result"
    }
   ],
   "source": [
    "r2_score(df_test[['target_flag']], y_pred_Lasso)"
   ]
  },
  {
   "cell_type": "code",
   "execution_count": 135,
   "metadata": {},
   "outputs": [
    {
     "data": {
      "text/plain": [
       "0.7385438558480483"
      ]
     },
     "execution_count": 135,
     "metadata": {},
     "output_type": "execute_result"
    }
   ],
   "source": [
    "average_precision_score = average_precision_score(df_test[['target_flag']], y_pred_Lasso)\n",
    "average_precision_score"
   ]
  },
  {
   "cell_type": "code",
   "execution_count": 136,
   "metadata": {},
   "outputs": [
    {
     "name": "stdout",
     "output_type": "stream",
     "text": [
      "accuracy_score = 0.7655\n",
      "precision_score = 0.7679885354141657\n",
      "recall_score = 0.7655\n",
      "f1_score = 0.7659112958299864\n",
      "r2_score = 0.05501086032294844\n"
     ]
    }
   ],
   "source": [
    "score(y,y_pred_Lasso)"
   ]
  },
  {
   "cell_type": "markdown",
   "metadata": {},
   "source": [
    "### SVC"
   ]
  },
  {
   "cell_type": "code",
   "execution_count": 137,
   "metadata": {},
   "outputs": [],
   "source": [
    "from sklearn.svm import SVC\n",
    "from sklearn import svm"
   ]
  },
  {
   "cell_type": "code",
   "execution_count": 138,
   "metadata": {},
   "outputs": [],
   "source": [
    "clf = svm.SVC()"
   ]
  },
  {
   "cell_type": "code",
   "execution_count": 139,
   "metadata": {},
   "outputs": [
    {
     "data": {
      "text/plain": [
       "SVC()"
      ]
     },
     "execution_count": 139,
     "metadata": {},
     "output_type": "execute_result"
    }
   ],
   "source": [
    "clf.fit(df_train.drop(['target_flag'], axis=1), df_train['target_flag'])"
   ]
  },
  {
   "cell_type": "code",
   "execution_count": 140,
   "metadata": {},
   "outputs": [],
   "source": [
    "y_pred_CVM = clf.predict(df_test.drop(['target_flag'], axis=1))"
   ]
  },
  {
   "cell_type": "code",
   "execution_count": 141,
   "metadata": {},
   "outputs": [
    {
     "name": "stdout",
     "output_type": "stream",
     "text": [
      "accuracy_score = 0.653\n",
      "precision_score = 0.6792346374911662\n",
      "recall_score = 0.653\n",
      "f1_score = 0.64899146639524\n",
      "r2_score = -0.39834213845602084\n"
     ]
    }
   ],
   "source": [
    "score(y,y_pred_CVM)"
   ]
  },
  {
   "cell_type": "code",
   "execution_count": 142,
   "metadata": {
    "scrolled": true
   },
   "outputs": [
    {
     "data": {
      "text/plain": [
       "SVC(C=0.001, gamma=5)"
      ]
     },
     "execution_count": 142,
     "metadata": {},
     "output_type": "execute_result"
    }
   ],
   "source": [
    "rbf_kernel_svm_clf = SVC(kernel=\"rbf\", gamma=5, C=0.001)\n",
    "rbf_kernel_svm_clf.fit(X_train, y_train)"
   ]
  },
  {
   "cell_type": "code",
   "execution_count": 143,
   "metadata": {},
   "outputs": [],
   "source": [
    "y_pred_rbf = clf.predict(X_test)"
   ]
  },
  {
   "cell_type": "code",
   "execution_count": 144,
   "metadata": {},
   "outputs": [
    {
     "name": "stdout",
     "output_type": "stream",
     "text": [
      "accuracy_score = 0.653\n",
      "precision_score = 0.6792346374911662\n",
      "recall_score = 0.653\n",
      "f1_score = 0.64899146639524\n",
      "r2_score = -0.39834213845602084\n"
     ]
    }
   ],
   "source": [
    "score(y,y_pred_rbf)"
   ]
  },
  {
   "cell_type": "markdown",
   "metadata": {},
   "source": [
    "## Polynomial kernel"
   ]
  },
  {
   "cell_type": "code",
   "execution_count": 146,
   "metadata": {},
   "outputs": [],
   "source": [
    "from sklearn.svm import SVC"
   ]
  },
  {
   "cell_type": "code",
   "execution_count": 147,
   "metadata": {},
   "outputs": [],
   "source": [
    "poly_kernel_svm = SVC(kernel=\"poly\")"
   ]
  },
  {
   "cell_type": "code",
   "execution_count": 148,
   "metadata": {},
   "outputs": [
    {
     "data": {
      "text/plain": [
       "SVC(kernel='poly')"
      ]
     },
     "execution_count": 148,
     "metadata": {},
     "output_type": "execute_result"
    }
   ],
   "source": [
    "poly_kernel_svm.fit(df_train.drop(['target_flag'], axis=1), df_train['target_flag'])"
   ]
  },
  {
   "cell_type": "code",
   "execution_count": 149,
   "metadata": {},
   "outputs": [],
   "source": [
    "y_pred_poly_kernel = poly_kernel_svm.predict(df_test.drop(['target_flag'], axis=1))"
   ]
  },
  {
   "cell_type": "code",
   "execution_count": 150,
   "metadata": {},
   "outputs": [
    {
     "name": "stdout",
     "output_type": "stream",
     "text": [
      "accuracy_score = 0.55275\n",
      "precision_score = 0.6944867083191916\n",
      "recall_score = 0.55275\n",
      "f1_score = 0.40659609799928564\n",
      "r2_score = -0.8023300329235024\n"
     ]
    }
   ],
   "source": [
    "score(y,y_pred_poly_kernel)"
   ]
  },
  {
   "cell_type": "markdown",
   "metadata": {},
   "source": [
    "#### LGBModel"
   ]
  },
  {
   "cell_type": "code",
   "execution_count": 118,
   "metadata": {},
   "outputs": [],
   "source": [
    "from sklearn.model_selection import RepeatedStratifiedKFold\n",
    "import lightgbm as lgb\n",
    "skf = RepeatedStratifiedKFold(n_splits=8, n_repeats=5, random_state=201805)"
   ]
  },
  {
   "cell_type": "code",
   "execution_count": 119,
   "metadata": {},
   "outputs": [
    {
     "name": "stdout",
     "output_type": "stream",
     "text": [
      "[LightGBM] [Warning] Unknown parameter: class_weight\n",
      "[LightGBM] [Warning] Unknown parameter: class_weight\n",
      "[LightGBM] [Warning] Unknown parameter: class_weight\n",
      "[LightGBM] [Info] Number of positive: 1940, number of negative: 1560\n",
      "[LightGBM] [Warning] Auto-choosing col-wise multi-threading, the overhead of testing was 0.017810 seconds.\n",
      "You can set `force_col_wise=true` to remove the overhead.\n",
      "[LightGBM] [Info] Total Bins 13141\n",
      "[LightGBM] [Info] Number of data points in the train set: 3500, number of used features: 78\n",
      "[LightGBM] [Warning] Unknown parameter: class_weight\n",
      "[LightGBM] [Warning] Unknown parameter: class_weight\n",
      "[LightGBM] [Warning] Unknown parameter: class_weight\n",
      "[LightGBM] [Info] Number of positive: 1940, number of negative: 1560\n",
      "[LightGBM] [Warning] Auto-choosing row-wise multi-threading, the overhead of testing was 0.012498 seconds.\n",
      "You can set `force_row_wise=true` to remove the overhead.\n",
      "And if memory is not enough, you can set `force_col_wise=true`.\n",
      "[LightGBM] [Info] Total Bins 13141\n",
      "[LightGBM] [Info] Number of data points in the train set: 3500, number of used features: 78\n",
      "[LightGBM] [Warning] Unknown parameter: class_weight\n",
      "[LightGBM] [Warning] Unknown parameter: class_weight\n",
      "[LightGBM] [Warning] Unknown parameter: class_weight\n",
      "[LightGBM] [Info] Number of positive: 1940, number of negative: 1560\n",
      "[LightGBM] [Warning] Auto-choosing col-wise multi-threading, the overhead of testing was 0.018034 seconds.\n",
      "You can set `force_col_wise=true` to remove the overhead.\n",
      "[LightGBM] [Info] Total Bins 13141\n",
      "[LightGBM] [Info] Number of data points in the train set: 3500, number of used features: 78\n",
      "[LightGBM] [Warning] Unknown parameter: class_weight\n",
      "[LightGBM] [Warning] Unknown parameter: class_weight\n",
      "[LightGBM] [Warning] Unknown parameter: class_weight\n",
      "[LightGBM] [Info] Number of positive: 1940, number of negative: 1560\n",
      "[LightGBM] [Warning] Auto-choosing col-wise multi-threading, the overhead of testing was 0.011348 seconds.\n",
      "You can set `force_col_wise=true` to remove the overhead.\n",
      "[LightGBM] [Info] Total Bins 13141\n",
      "[LightGBM] [Info] Number of data points in the train set: 3500, number of used features: 78\n",
      "[LightGBM] [Warning] Unknown parameter: class_weight\n",
      "[LightGBM] [Warning] Unknown parameter: class_weight\n",
      "[LightGBM] [Warning] Unknown parameter: class_weight\n",
      "[LightGBM] [Info] Number of positive: 1940, number of negative: 1560\n",
      "[LightGBM] [Warning] Auto-choosing col-wise multi-threading, the overhead of testing was 0.012175 seconds.\n",
      "You can set `force_col_wise=true` to remove the overhead.\n",
      "[LightGBM] [Info] Total Bins 13141\n",
      "[LightGBM] [Info] Number of data points in the train set: 3500, number of used features: 78\n",
      "[LightGBM] [Warning] Unknown parameter: class_weight\n",
      "[LightGBM] [Warning] Unknown parameter: class_weight\n",
      "[LightGBM] [Warning] Unknown parameter: class_weight\n",
      "[LightGBM] [Info] Number of positive: 1940, number of negative: 1560\n",
      "[LightGBM] [Warning] Auto-choosing row-wise multi-threading, the overhead of testing was 0.019691 seconds.\n",
      "You can set `force_row_wise=true` to remove the overhead.\n",
      "And if memory is not enough, you can set `force_col_wise=true`.\n",
      "[LightGBM] [Info] Total Bins 13141\n",
      "[LightGBM] [Info] Number of data points in the train set: 3500, number of used features: 78\n",
      "[LightGBM] [Warning] Unknown parameter: class_weight\n",
      "[LightGBM] [Warning] Unknown parameter: class_weight\n",
      "[LightGBM] [Warning] Unknown parameter: class_weight\n",
      "[LightGBM] [Info] Number of positive: 1940, number of negative: 1560\n",
      "[LightGBM] [Warning] Auto-choosing row-wise multi-threading, the overhead of testing was 0.009445 seconds.\n",
      "You can set `force_row_wise=true` to remove the overhead.\n",
      "And if memory is not enough, you can set `force_col_wise=true`.\n",
      "[LightGBM] [Info] Total Bins 13141\n",
      "[LightGBM] [Info] Number of data points in the train set: 3500, number of used features: 78\n",
      "[LightGBM] [Warning] Unknown parameter: class_weight\n",
      "[LightGBM] [Warning] Unknown parameter: class_weight\n",
      "[LightGBM] [Warning] Unknown parameter: class_weight\n",
      "[LightGBM] [Info] Number of positive: 1939, number of negative: 1561\n",
      "[LightGBM] [Warning] Auto-choosing col-wise multi-threading, the overhead of testing was 0.017348 seconds.\n",
      "You can set `force_col_wise=true` to remove the overhead.\n",
      "[LightGBM] [Info] Total Bins 13141\n",
      "[LightGBM] [Info] Number of data points in the train set: 3500, number of used features: 78\n",
      "[LightGBM] [Warning] Unknown parameter: class_weight\n",
      "[LightGBM] [Warning] Unknown parameter: class_weight\n",
      "[LightGBM] [Warning] Unknown parameter: class_weight\n",
      "[LightGBM] [Info] Number of positive: 1940, number of negative: 1560\n",
      "[LightGBM] [Warning] Auto-choosing row-wise multi-threading, the overhead of testing was 0.016638 seconds.\n",
      "You can set `force_row_wise=true` to remove the overhead.\n",
      "And if memory is not enough, you can set `force_col_wise=true`.\n",
      "[LightGBM] [Info] Total Bins 13141\n",
      "[LightGBM] [Info] Number of data points in the train set: 3500, number of used features: 78\n",
      "[LightGBM] [Warning] Unknown parameter: class_weight\n",
      "[LightGBM] [Warning] Unknown parameter: class_weight\n",
      "[LightGBM] [Warning] Unknown parameter: class_weight\n",
      "[LightGBM] [Info] Number of positive: 1940, number of negative: 1560\n",
      "[LightGBM] [Warning] Auto-choosing col-wise multi-threading, the overhead of testing was 0.015156 seconds.\n",
      "You can set `force_col_wise=true` to remove the overhead.\n",
      "[LightGBM] [Info] Total Bins 13141\n",
      "[LightGBM] [Info] Number of data points in the train set: 3500, number of used features: 78\n",
      "[LightGBM] [Warning] Unknown parameter: class_weight\n",
      "[LightGBM] [Warning] Unknown parameter: class_weight\n",
      "[LightGBM] [Warning] Unknown parameter: class_weight\n",
      "[LightGBM] [Info] Number of positive: 1940, number of negative: 1560\n",
      "[LightGBM] [Warning] Auto-choosing col-wise multi-threading, the overhead of testing was 0.011713 seconds.\n",
      "You can set `force_col_wise=true` to remove the overhead.\n",
      "[LightGBM] [Info] Total Bins 13141\n",
      "[LightGBM] [Info] Number of data points in the train set: 3500, number of used features: 78\n",
      "[LightGBM] [Warning] Unknown parameter: class_weight\n",
      "[LightGBM] [Warning] Unknown parameter: class_weight\n",
      "[LightGBM] [Warning] Unknown parameter: class_weight\n",
      "[LightGBM] [Info] Number of positive: 1940, number of negative: 1560\n",
      "[LightGBM] [Warning] Auto-choosing col-wise multi-threading, the overhead of testing was 0.008621 seconds.\n",
      "You can set `force_col_wise=true` to remove the overhead.\n",
      "[LightGBM] [Info] Total Bins 13141\n",
      "[LightGBM] [Info] Number of data points in the train set: 3500, number of used features: 78\n",
      "[LightGBM] [Warning] Unknown parameter: class_weight\n",
      "[LightGBM] [Warning] Unknown parameter: class_weight\n",
      "[LightGBM] [Warning] Unknown parameter: class_weight\n",
      "[LightGBM] [Info] Number of positive: 1940, number of negative: 1560\n",
      "[LightGBM] [Warning] Auto-choosing row-wise multi-threading, the overhead of testing was 0.011796 seconds.\n",
      "You can set `force_row_wise=true` to remove the overhead.\n",
      "And if memory is not enough, you can set `force_col_wise=true`.\n",
      "[LightGBM] [Info] Total Bins 13141\n",
      "[LightGBM] [Info] Number of data points in the train set: 3500, number of used features: 78\n",
      "[LightGBM] [Warning] Unknown parameter: class_weight\n",
      "[LightGBM] [Warning] Unknown parameter: class_weight\n",
      "[LightGBM] [Warning] Unknown parameter: class_weight\n",
      "[LightGBM] [Info] Number of positive: 1940, number of negative: 1560\n",
      "[LightGBM] [Warning] Auto-choosing row-wise multi-threading, the overhead of testing was 0.010391 seconds.\n",
      "You can set `force_row_wise=true` to remove the overhead.\n",
      "And if memory is not enough, you can set `force_col_wise=true`.\n",
      "[LightGBM] [Info] Total Bins 13141\n",
      "[LightGBM] [Info] Number of data points in the train set: 3500, number of used features: 78\n",
      "[LightGBM] [Warning] Unknown parameter: class_weight\n",
      "[LightGBM] [Warning] Unknown parameter: class_weight\n",
      "[LightGBM] [Warning] Unknown parameter: class_weight\n",
      "[LightGBM] [Info] Number of positive: 1940, number of negative: 1560\n",
      "[LightGBM] [Warning] Auto-choosing col-wise multi-threading, the overhead of testing was 0.009993 seconds.\n",
      "You can set `force_col_wise=true` to remove the overhead.\n",
      "[LightGBM] [Info] Total Bins 13141\n",
      "[LightGBM] [Info] Number of data points in the train set: 3500, number of used features: 78\n",
      "[LightGBM] [Warning] Unknown parameter: class_weight\n",
      "[LightGBM] [Warning] Unknown parameter: class_weight\n",
      "[LightGBM] [Warning] Unknown parameter: class_weight\n",
      "[LightGBM] [Info] Number of positive: 1939, number of negative: 1561\n",
      "[LightGBM] [Warning] Auto-choosing row-wise multi-threading, the overhead of testing was 0.010169 seconds.\n",
      "You can set `force_row_wise=true` to remove the overhead.\n",
      "And if memory is not enough, you can set `force_col_wise=true`.\n",
      "[LightGBM] [Info] Total Bins 13141\n",
      "[LightGBM] [Info] Number of data points in the train set: 3500, number of used features: 78\n",
      "[LightGBM] [Warning] Unknown parameter: class_weight\n",
      "[LightGBM] [Warning] Unknown parameter: class_weight\n"
     ]
    },
    {
     "name": "stdout",
     "output_type": "stream",
     "text": [
      "[LightGBM] [Warning] Unknown parameter: class_weight\n",
      "[LightGBM] [Info] Number of positive: 1940, number of negative: 1560\n",
      "[LightGBM] [Warning] Auto-choosing col-wise multi-threading, the overhead of testing was 0.010295 seconds.\n",
      "You can set `force_col_wise=true` to remove the overhead.\n",
      "[LightGBM] [Info] Total Bins 13141\n",
      "[LightGBM] [Info] Number of data points in the train set: 3500, number of used features: 78\n",
      "[LightGBM] [Warning] Unknown parameter: class_weight\n",
      "[LightGBM] [Warning] Unknown parameter: class_weight\n",
      "[LightGBM] [Warning] Unknown parameter: class_weight\n",
      "[LightGBM] [Info] Number of positive: 1940, number of negative: 1560\n",
      "[LightGBM] [Warning] Auto-choosing col-wise multi-threading, the overhead of testing was 0.011197 seconds.\n",
      "You can set `force_col_wise=true` to remove the overhead.\n",
      "[LightGBM] [Info] Total Bins 13141\n",
      "[LightGBM] [Info] Number of data points in the train set: 3500, number of used features: 78\n",
      "[LightGBM] [Warning] Unknown parameter: class_weight\n",
      "[LightGBM] [Warning] Unknown parameter: class_weight\n",
      "[LightGBM] [Warning] Unknown parameter: class_weight\n",
      "[LightGBM] [Info] Number of positive: 1940, number of negative: 1560\n",
      "[LightGBM] [Warning] Auto-choosing row-wise multi-threading, the overhead of testing was 0.008580 seconds.\n",
      "You can set `force_row_wise=true` to remove the overhead.\n",
      "And if memory is not enough, you can set `force_col_wise=true`.\n",
      "[LightGBM] [Info] Total Bins 13141\n",
      "[LightGBM] [Info] Number of data points in the train set: 3500, number of used features: 78\n",
      "[LightGBM] [Warning] Unknown parameter: class_weight\n",
      "[LightGBM] [Warning] Unknown parameter: class_weight\n",
      "[LightGBM] [Warning] Unknown parameter: class_weight\n",
      "[LightGBM] [Info] Number of positive: 1940, number of negative: 1560\n",
      "[LightGBM] [Warning] Auto-choosing row-wise multi-threading, the overhead of testing was 0.007700 seconds.\n",
      "You can set `force_row_wise=true` to remove the overhead.\n",
      "And if memory is not enough, you can set `force_col_wise=true`.\n",
      "[LightGBM] [Info] Total Bins 13141\n",
      "[LightGBM] [Info] Number of data points in the train set: 3500, number of used features: 78\n",
      "[LightGBM] [Warning] Unknown parameter: class_weight\n",
      "[LightGBM] [Warning] Unknown parameter: class_weight\n",
      "[LightGBM] [Warning] Unknown parameter: class_weight\n",
      "[LightGBM] [Info] Number of positive: 1940, number of negative: 1560\n",
      "[LightGBM] [Warning] Auto-choosing col-wise multi-threading, the overhead of testing was 0.015367 seconds.\n",
      "You can set `force_col_wise=true` to remove the overhead.\n",
      "[LightGBM] [Info] Total Bins 13141\n",
      "[LightGBM] [Info] Number of data points in the train set: 3500, number of used features: 78\n",
      "[LightGBM] [Warning] Unknown parameter: class_weight\n",
      "[LightGBM] [Warning] Unknown parameter: class_weight\n",
      "[LightGBM] [Warning] Unknown parameter: class_weight\n",
      "[LightGBM] [Info] Number of positive: 1940, number of negative: 1560\n",
      "[LightGBM] [Warning] Auto-choosing row-wise multi-threading, the overhead of testing was 0.026639 seconds.\n",
      "You can set `force_row_wise=true` to remove the overhead.\n",
      "And if memory is not enough, you can set `force_col_wise=true`.\n",
      "[LightGBM] [Info] Total Bins 13141\n",
      "[LightGBM] [Info] Number of data points in the train set: 3500, number of used features: 78\n",
      "[LightGBM] [Warning] Unknown parameter: class_weight\n",
      "[LightGBM] [Warning] Unknown parameter: class_weight\n",
      "[LightGBM] [Warning] Unknown parameter: class_weight\n",
      "[LightGBM] [Info] Number of positive: 1940, number of negative: 1560\n",
      "[LightGBM] [Warning] Auto-choosing col-wise multi-threading, the overhead of testing was 0.031468 seconds.\n",
      "You can set `force_col_wise=true` to remove the overhead.\n",
      "[LightGBM] [Info] Total Bins 13141\n",
      "[LightGBM] [Info] Number of data points in the train set: 3500, number of used features: 78\n",
      "[LightGBM] [Warning] Unknown parameter: class_weight\n",
      "[LightGBM] [Warning] Unknown parameter: class_weight\n",
      "[LightGBM] [Warning] Unknown parameter: class_weight\n",
      "[LightGBM] [Info] Number of positive: 1939, number of negative: 1561\n",
      "[LightGBM] [Warning] Auto-choosing row-wise multi-threading, the overhead of testing was 0.014144 seconds.\n",
      "You can set `force_row_wise=true` to remove the overhead.\n",
      "And if memory is not enough, you can set `force_col_wise=true`.\n",
      "[LightGBM] [Info] Total Bins 13141\n",
      "[LightGBM] [Info] Number of data points in the train set: 3500, number of used features: 78\n",
      "[LightGBM] [Warning] Unknown parameter: class_weight\n",
      "[LightGBM] [Warning] Unknown parameter: class_weight\n",
      "[LightGBM] [Warning] Unknown parameter: class_weight\n",
      "[LightGBM] [Info] Number of positive: 1940, number of negative: 1560\n",
      "[LightGBM] [Warning] Auto-choosing col-wise multi-threading, the overhead of testing was 0.017445 seconds.\n",
      "You can set `force_col_wise=true` to remove the overhead.\n",
      "[LightGBM] [Info] Total Bins 13141\n",
      "[LightGBM] [Info] Number of data points in the train set: 3500, number of used features: 78\n",
      "[LightGBM] [Warning] Unknown parameter: class_weight\n",
      "[LightGBM] [Warning] Unknown parameter: class_weight\n",
      "[LightGBM] [Warning] Unknown parameter: class_weight\n",
      "[LightGBM] [Info] Number of positive: 1940, number of negative: 1560\n",
      "[LightGBM] [Warning] Auto-choosing row-wise multi-threading, the overhead of testing was 0.015312 seconds.\n",
      "You can set `force_row_wise=true` to remove the overhead.\n",
      "And if memory is not enough, you can set `force_col_wise=true`.\n",
      "[LightGBM] [Info] Total Bins 13141\n",
      "[LightGBM] [Info] Number of data points in the train set: 3500, number of used features: 78\n",
      "[LightGBM] [Warning] Unknown parameter: class_weight\n",
      "[LightGBM] [Warning] Unknown parameter: class_weight\n",
      "[LightGBM] [Warning] Unknown parameter: class_weight\n",
      "[LightGBM] [Info] Number of positive: 1940, number of negative: 1560\n",
      "[LightGBM] [Warning] Auto-choosing row-wise multi-threading, the overhead of testing was 0.042950 seconds.\n",
      "You can set `force_row_wise=true` to remove the overhead.\n",
      "And if memory is not enough, you can set `force_col_wise=true`.\n",
      "[LightGBM] [Info] Total Bins 13141\n",
      "[LightGBM] [Info] Number of data points in the train set: 3500, number of used features: 78\n",
      "[LightGBM] [Warning] Unknown parameter: class_weight\n",
      "[LightGBM] [Warning] Unknown parameter: class_weight\n",
      "[LightGBM] [Warning] Unknown parameter: class_weight\n",
      "[LightGBM] [Info] Number of positive: 1940, number of negative: 1560\n",
      "[LightGBM] [Warning] Auto-choosing row-wise multi-threading, the overhead of testing was 0.013919 seconds.\n",
      "You can set `force_row_wise=true` to remove the overhead.\n",
      "And if memory is not enough, you can set `force_col_wise=true`.\n",
      "[LightGBM] [Info] Total Bins 13141\n",
      "[LightGBM] [Info] Number of data points in the train set: 3500, number of used features: 78\n",
      "[LightGBM] [Warning] Unknown parameter: class_weight\n",
      "[LightGBM] [Warning] Unknown parameter: class_weight\n",
      "[LightGBM] [Warning] Unknown parameter: class_weight\n",
      "[LightGBM] [Info] Number of positive: 1940, number of negative: 1560\n",
      "[LightGBM] [Warning] Auto-choosing col-wise multi-threading, the overhead of testing was 0.049209 seconds.\n",
      "You can set `force_col_wise=true` to remove the overhead.\n",
      "[LightGBM] [Info] Total Bins 13141\n",
      "[LightGBM] [Info] Number of data points in the train set: 3500, number of used features: 78\n",
      "[LightGBM] [Warning] Unknown parameter: class_weight\n",
      "[LightGBM] [Warning] Unknown parameter: class_weight\n",
      "[LightGBM] [Warning] Unknown parameter: class_weight\n",
      "[LightGBM] [Info] Number of positive: 1940, number of negative: 1560\n",
      "[LightGBM] [Warning] Auto-choosing col-wise multi-threading, the overhead of testing was 0.021149 seconds.\n",
      "You can set `force_col_wise=true` to remove the overhead.\n",
      "[LightGBM] [Info] Total Bins 13141\n",
      "[LightGBM] [Info] Number of data points in the train set: 3500, number of used features: 78\n",
      "[LightGBM] [Warning] Unknown parameter: class_weight\n",
      "[LightGBM] [Warning] Unknown parameter: class_weight\n",
      "[LightGBM] [Warning] Unknown parameter: class_weight\n",
      "[LightGBM] [Info] Number of positive: 1940, number of negative: 1560\n",
      "[LightGBM] [Warning] Auto-choosing row-wise multi-threading, the overhead of testing was 0.014014 seconds.\n",
      "You can set `force_row_wise=true` to remove the overhead.\n",
      "And if memory is not enough, you can set `force_col_wise=true`.\n",
      "[LightGBM] [Info] Total Bins 13141\n",
      "[LightGBM] [Info] Number of data points in the train set: 3500, number of used features: 78\n",
      "[LightGBM] [Warning] Unknown parameter: class_weight\n"
     ]
    },
    {
     "name": "stdout",
     "output_type": "stream",
     "text": [
      "[LightGBM] [Warning] Unknown parameter: class_weight\n",
      "[LightGBM] [Warning] Unknown parameter: class_weight\n",
      "[LightGBM] [Info] Number of positive: 1939, number of negative: 1561\n",
      "[LightGBM] [Warning] Auto-choosing col-wise multi-threading, the overhead of testing was 0.009874 seconds.\n",
      "You can set `force_col_wise=true` to remove the overhead.\n",
      "[LightGBM] [Info] Total Bins 13141\n",
      "[LightGBM] [Info] Number of data points in the train set: 3500, number of used features: 78\n",
      "[LightGBM] [Warning] Unknown parameter: class_weight\n",
      "[LightGBM] [Warning] Unknown parameter: class_weight\n",
      "[LightGBM] [Warning] Unknown parameter: class_weight\n",
      "[LightGBM] [Info] Number of positive: 1940, number of negative: 1560\n",
      "[LightGBM] [Warning] Auto-choosing col-wise multi-threading, the overhead of testing was 0.011604 seconds.\n",
      "You can set `force_col_wise=true` to remove the overhead.\n",
      "[LightGBM] [Info] Total Bins 13141\n",
      "[LightGBM] [Info] Number of data points in the train set: 3500, number of used features: 78\n",
      "[LightGBM] [Warning] Unknown parameter: class_weight\n",
      "[LightGBM] [Warning] Unknown parameter: class_weight\n",
      "[LightGBM] [Warning] Unknown parameter: class_weight\n",
      "[LightGBM] [Info] Number of positive: 1940, number of negative: 1560\n",
      "[LightGBM] [Warning] Auto-choosing col-wise multi-threading, the overhead of testing was 0.014166 seconds.\n",
      "You can set `force_col_wise=true` to remove the overhead.\n",
      "[LightGBM] [Info] Total Bins 13141\n",
      "[LightGBM] [Info] Number of data points in the train set: 3500, number of used features: 78\n",
      "[LightGBM] [Warning] Unknown parameter: class_weight\n",
      "[LightGBM] [Warning] Unknown parameter: class_weight\n",
      "[LightGBM] [Warning] Unknown parameter: class_weight\n",
      "[LightGBM] [Info] Number of positive: 1940, number of negative: 1560\n",
      "[LightGBM] [Warning] Auto-choosing row-wise multi-threading, the overhead of testing was 0.014262 seconds.\n",
      "You can set `force_row_wise=true` to remove the overhead.\n",
      "And if memory is not enough, you can set `force_col_wise=true`.\n",
      "[LightGBM] [Info] Total Bins 13141\n",
      "[LightGBM] [Info] Number of data points in the train set: 3500, number of used features: 78\n",
      "[LightGBM] [Warning] Unknown parameter: class_weight\n",
      "[LightGBM] [Warning] Unknown parameter: class_weight\n",
      "[LightGBM] [Warning] Unknown parameter: class_weight\n",
      "[LightGBM] [Info] Number of positive: 1940, number of negative: 1560\n",
      "[LightGBM] [Warning] Auto-choosing row-wise multi-threading, the overhead of testing was 0.012816 seconds.\n",
      "You can set `force_row_wise=true` to remove the overhead.\n",
      "And if memory is not enough, you can set `force_col_wise=true`.\n",
      "[LightGBM] [Info] Total Bins 13141\n",
      "[LightGBM] [Info] Number of data points in the train set: 3500, number of used features: 78\n",
      "[LightGBM] [Warning] Unknown parameter: class_weight\n",
      "[LightGBM] [Warning] Unknown parameter: class_weight\n",
      "[LightGBM] [Warning] Unknown parameter: class_weight\n",
      "[LightGBM] [Info] Number of positive: 1940, number of negative: 1560\n",
      "[LightGBM] [Warning] Auto-choosing col-wise multi-threading, the overhead of testing was 0.011638 seconds.\n",
      "You can set `force_col_wise=true` to remove the overhead.\n",
      "[LightGBM] [Info] Total Bins 13141\n",
      "[LightGBM] [Info] Number of data points in the train set: 3500, number of used features: 78\n",
      "[LightGBM] [Warning] Unknown parameter: class_weight\n",
      "[LightGBM] [Warning] Unknown parameter: class_weight\n",
      "[LightGBM] [Warning] Unknown parameter: class_weight\n",
      "[LightGBM] [Info] Number of positive: 1940, number of negative: 1560\n",
      "[LightGBM] [Warning] Auto-choosing row-wise multi-threading, the overhead of testing was 0.045536 seconds.\n",
      "You can set `force_row_wise=true` to remove the overhead.\n",
      "And if memory is not enough, you can set `force_col_wise=true`.\n",
      "[LightGBM] [Info] Total Bins 13141\n",
      "[LightGBM] [Info] Number of data points in the train set: 3500, number of used features: 78\n",
      "[LightGBM] [Warning] Unknown parameter: class_weight\n",
      "[LightGBM] [Warning] Unknown parameter: class_weight\n",
      "[LightGBM] [Warning] Unknown parameter: class_weight\n",
      "[LightGBM] [Info] Number of positive: 1940, number of negative: 1560\n",
      "[LightGBM] [Warning] Auto-choosing row-wise multi-threading, the overhead of testing was 0.009124 seconds.\n",
      "You can set `force_row_wise=true` to remove the overhead.\n",
      "And if memory is not enough, you can set `force_col_wise=true`.\n",
      "[LightGBM] [Info] Total Bins 13141\n",
      "[LightGBM] [Info] Number of data points in the train set: 3500, number of used features: 78\n",
      "[LightGBM] [Warning] Unknown parameter: class_weight\n",
      "[LightGBM] [Warning] Unknown parameter: class_weight\n",
      "[LightGBM] [Warning] Unknown parameter: class_weight\n",
      "[LightGBM] [Info] Number of positive: 1939, number of negative: 1561\n",
      "[LightGBM] [Warning] Auto-choosing col-wise multi-threading, the overhead of testing was 0.016798 seconds.\n",
      "You can set `force_col_wise=true` to remove the overhead.\n",
      "[LightGBM] [Info] Total Bins 13141\n",
      "[LightGBM] [Info] Number of data points in the train set: 3500, number of used features: 78\n",
      "[LightGBM] [Warning] Unknown parameter: class_weight\n",
      "[LightGBM] [Info] [binary:BoostFromScore]: pavg=0.554286 -> initscore=0.218002\n",
      "[LightGBM] [Info] Start training from score 0.218002\n",
      "[LightGBM] [Info] [binary:BoostFromScore]: pavg=0.554286 -> initscore=0.218002\n",
      "[LightGBM] [Info] Start training from score 0.218002\n",
      "[LightGBM] [Info] [binary:BoostFromScore]: pavg=0.554286 -> initscore=0.218002\n",
      "[LightGBM] [Info] Start training from score 0.218002\n",
      "[LightGBM] [Info] [binary:BoostFromScore]: pavg=0.554286 -> initscore=0.218002\n",
      "[LightGBM] [Info] Start training from score 0.218002\n",
      "[LightGBM] [Info] [binary:BoostFromScore]: pavg=0.554286 -> initscore=0.218002\n",
      "[LightGBM] [Info] Start training from score 0.218002\n",
      "[LightGBM] [Info] [binary:BoostFromScore]: pavg=0.554286 -> initscore=0.218002\n",
      "[LightGBM] [Info] Start training from score 0.218002\n",
      "[LightGBM] [Info] [binary:BoostFromScore]: pavg=0.554286 -> initscore=0.218002\n",
      "[LightGBM] [Info] Start training from score 0.218002\n",
      "[LightGBM] [Info] [binary:BoostFromScore]: pavg=0.554000 -> initscore=0.216846\n",
      "[LightGBM] [Info] Start training from score 0.216846\n",
      "[LightGBM] [Info] [binary:BoostFromScore]: pavg=0.554286 -> initscore=0.218002\n",
      "[LightGBM] [Info] Start training from score 0.218002\n",
      "[LightGBM] [Info] [binary:BoostFromScore]: pavg=0.554286 -> initscore=0.218002\n",
      "[LightGBM] [Info] Start training from score 0.218002\n",
      "[LightGBM] [Info] [binary:BoostFromScore]: pavg=0.554286 -> initscore=0.218002\n",
      "[LightGBM] [Info] Start training from score 0.218002\n",
      "[LightGBM] [Info] [binary:BoostFromScore]: pavg=0.554286 -> initscore=0.218002\n",
      "[LightGBM] [Info] Start training from score 0.218002\n",
      "[LightGBM] [Info] [binary:BoostFromScore]: pavg=0.554286 -> initscore=0.218002\n",
      "[LightGBM] [Info] Start training from score 0.218002\n",
      "[LightGBM] [Info] [binary:BoostFromScore]: pavg=0.554286 -> initscore=0.218002\n",
      "[LightGBM] [Info] Start training from score 0.218002\n",
      "[LightGBM] [Info] [binary:BoostFromScore]: pavg=0.554286 -> initscore=0.218002\n",
      "[LightGBM] [Info] Start training from score 0.218002\n",
      "[LightGBM] [Info] [binary:BoostFromScore]: pavg=0.554000 -> initscore=0.216846\n",
      "[LightGBM] [Info] Start training from score 0.216846\n",
      "[LightGBM] [Info] [binary:BoostFromScore]: pavg=0.554286 -> initscore=0.218002\n",
      "[LightGBM] [Info] Start training from score 0.218002\n",
      "[LightGBM] [Info] [binary:BoostFromScore]: pavg=0.554286 -> initscore=0.218002\n",
      "[LightGBM] [Info] Start training from score 0.218002\n",
      "[LightGBM] [Info] [binary:BoostFromScore]: pavg=0.554286 -> initscore=0.218002\n",
      "[LightGBM] [Info] Start training from score 0.218002\n",
      "[LightGBM] [Info] [binary:BoostFromScore]: pavg=0.554286 -> initscore=0.218002\n",
      "[LightGBM] [Info] Start training from score 0.218002\n",
      "[LightGBM] [Info] [binary:BoostFromScore]: pavg=0.554286 -> initscore=0.218002\n",
      "[LightGBM] [Info] Start training from score 0.218002\n",
      "[LightGBM] [Info] [binary:BoostFromScore]: pavg=0.554286 -> initscore=0.218002\n",
      "[LightGBM] [Info] Start training from score 0.218002\n",
      "[LightGBM] [Info] [binary:BoostFromScore]: pavg=0.554286 -> initscore=0.218002\n",
      "[LightGBM] [Info] Start training from score 0.218002\n",
      "[LightGBM] [Info] [binary:BoostFromScore]: pavg=0.554000 -> initscore=0.216846\n",
      "[LightGBM] [Info] Start training from score 0.216846\n",
      "[LightGBM] [Info] [binary:BoostFromScore]: pavg=0.554286 -> initscore=0.218002\n",
      "[LightGBM] [Info] Start training from score 0.218002\n",
      "[LightGBM] [Info] [binary:BoostFromScore]: pavg=0.554286 -> initscore=0.218002\n",
      "[LightGBM] [Info] Start training from score 0.218002\n",
      "[LightGBM] [Info] [binary:BoostFromScore]: pavg=0.554286 -> initscore=0.218002\n",
      "[LightGBM] [Info] Start training from score 0.218002\n",
      "[LightGBM] [Info] [binary:BoostFromScore]: pavg=0.554286 -> initscore=0.218002\n",
      "[LightGBM] [Info] Start training from score 0.218002\n"
     ]
    },
    {
     "name": "stdout",
     "output_type": "stream",
     "text": [
      "[LightGBM] [Info] [binary:BoostFromScore]: pavg=0.554286 -> initscore=0.218002\n",
      "[LightGBM] [Info] Start training from score 0.218002\n",
      "[LightGBM] [Info] [binary:BoostFromScore]: pavg=0.554286 -> initscore=0.218002\n",
      "[LightGBM] [Info] Start training from score 0.218002\n",
      "[LightGBM] [Info] [binary:BoostFromScore]: pavg=0.554286 -> initscore=0.218002\n",
      "[LightGBM] [Info] Start training from score 0.218002\n",
      "[LightGBM] [Info] [binary:BoostFromScore]: pavg=0.554000 -> initscore=0.216846\n",
      "[LightGBM] [Info] Start training from score 0.216846\n",
      "[LightGBM] [Info] [binary:BoostFromScore]: pavg=0.554286 -> initscore=0.218002\n",
      "[LightGBM] [Info] Start training from score 0.218002\n",
      "[LightGBM] [Info] [binary:BoostFromScore]: pavg=0.554286 -> initscore=0.218002\n",
      "[LightGBM] [Info] Start training from score 0.218002\n",
      "[LightGBM] [Info] [binary:BoostFromScore]: pavg=0.554286 -> initscore=0.218002\n",
      "[LightGBM] [Info] Start training from score 0.218002\n",
      "[LightGBM] [Info] [binary:BoostFromScore]: pavg=0.554286 -> initscore=0.218002\n",
      "[LightGBM] [Info] Start training from score 0.218002\n",
      "[LightGBM] [Info] [binary:BoostFromScore]: pavg=0.554286 -> initscore=0.218002\n",
      "[LightGBM] [Info] Start training from score 0.218002\n",
      "[LightGBM] [Info] [binary:BoostFromScore]: pavg=0.554286 -> initscore=0.218002\n",
      "[LightGBM] [Info] Start training from score 0.218002\n",
      "[LightGBM] [Info] [binary:BoostFromScore]: pavg=0.554286 -> initscore=0.218002\n",
      "[LightGBM] [Info] Start training from score 0.218002\n",
      "[LightGBM] [Info] [binary:BoostFromScore]: pavg=0.554000 -> initscore=0.216846\n",
      "[LightGBM] [Info] Start training from score 0.216846\n",
      "[10]\tcv_agg's auc: 0.840522 + 0.0191282\n",
      "[20]\tcv_agg's auc: 0.839982 + 0.0191156\n",
      "[30]\tcv_agg's auc: 0.837662 + 0.0194837\n",
      "[40]\tcv_agg's auc: 0.840023 + 0.0195575\n",
      "[50]\tcv_agg's auc: 0.842657 + 0.0191666\n",
      "[60]\tcv_agg's auc: 0.842122 + 0.0191722\n",
      "[70]\tcv_agg's auc: 0.843338 + 0.0191807\n",
      "[80]\tcv_agg's auc: 0.843773 + 0.0192341\n",
      "[90]\tcv_agg's auc: 0.844821 + 0.0190571\n",
      "[100]\tcv_agg's auc: 0.846627 + 0.0188476\n",
      "[110]\tcv_agg's auc: 0.847203 + 0.0187799\n",
      "[120]\tcv_agg's auc: 0.848144 + 0.0187067\n",
      "[130]\tcv_agg's auc: 0.848796 + 0.018518\n",
      "[140]\tcv_agg's auc: 0.84916 + 0.0186137\n",
      "[150]\tcv_agg's auc: 0.849906 + 0.0185739\n",
      "[160]\tcv_agg's auc: 0.850469 + 0.0184842\n",
      "[170]\tcv_agg's auc: 0.85056 + 0.0186328\n",
      "[180]\tcv_agg's auc: 0.850425 + 0.0188457\n",
      "[190]\tcv_agg's auc: 0.850905 + 0.018788\n",
      "[200]\tcv_agg's auc: 0.851304 + 0.0187218\n",
      "[210]\tcv_agg's auc: 0.851712 + 0.0186718\n",
      "[220]\tcv_agg's auc: 0.851859 + 0.0186671\n",
      "[230]\tcv_agg's auc: 0.852346 + 0.0186912\n",
      "[240]\tcv_agg's auc: 0.852605 + 0.0187407\n",
      "[250]\tcv_agg's auc: 0.85302 + 0.0188171\n",
      "[260]\tcv_agg's auc: 0.853228 + 0.0187803\n",
      "[270]\tcv_agg's auc: 0.8533 + 0.0188341\n",
      "[280]\tcv_agg's auc: 0.853773 + 0.0187982\n",
      "[290]\tcv_agg's auc: 0.853903 + 0.0187306\n",
      "[300]\tcv_agg's auc: 0.854226 + 0.018711\n",
      "[310]\tcv_agg's auc: 0.85452 + 0.0187307\n",
      "[320]\tcv_agg's auc: 0.854968 + 0.0186612\n",
      "[330]\tcv_agg's auc: 0.85523 + 0.0186273\n",
      "[340]\tcv_agg's auc: 0.855344 + 0.0186867\n",
      "[350]\tcv_agg's auc: 0.855558 + 0.0186778\n",
      "[360]\tcv_agg's auc: 0.85574 + 0.0186543\n",
      "[370]\tcv_agg's auc: 0.856018 + 0.0186601\n",
      "[380]\tcv_agg's auc: 0.856043 + 0.0186879\n",
      "[390]\tcv_agg's auc: 0.856165 + 0.0186765\n",
      "[400]\tcv_agg's auc: 0.856308 + 0.0186762\n",
      "[410]\tcv_agg's auc: 0.856498 + 0.0186553\n",
      "[420]\tcv_agg's auc: 0.856527 + 0.0186946\n",
      "[430]\tcv_agg's auc: 0.856648 + 0.0187662\n",
      "[440]\tcv_agg's auc: 0.856746 + 0.0187981\n",
      "[450]\tcv_agg's auc: 0.856677 + 0.0188415\n",
      "[460]\tcv_agg's auc: 0.856792 + 0.0188691\n",
      "[470]\tcv_agg's auc: 0.856912 + 0.0188828\n",
      "[480]\tcv_agg's auc: 0.856929 + 0.0189372\n",
      "[490]\tcv_agg's auc: 0.856999 + 0.0189846\n",
      "[500]\tcv_agg's auc: 0.85699 + 0.0190445\n",
      "[510]\tcv_agg's auc: 0.856965 + 0.0190386\n",
      "[520]\tcv_agg's auc: 0.857113 + 0.0190317\n",
      "[530]\tcv_agg's auc: 0.857173 + 0.0190238\n",
      "[540]\tcv_agg's auc: 0.857142 + 0.0190645\n",
      "[550]\tcv_agg's auc: 0.857213 + 0.0190191\n",
      "[560]\tcv_agg's auc: 0.857195 + 0.0190015\n",
      "[570]\tcv_agg's auc: 0.857165 + 0.0189922\n",
      "[580]\tcv_agg's auc: 0.857088 + 0.0190728\n",
      "[590]\tcv_agg's auc: 0.857069 + 0.0191134\n"
     ]
    }
   ],
   "source": [
    "lgb_data_train = lgb.Dataset(df_train.drop(['target_flag'],axis=1), \n",
    "                             df_train['target_flag'], \n",
    "                             free_raw_data=False\n",
    "                            )\n",
    "\n",
    "params = {\n",
    "    'objective':'binary', \n",
    "    'metric': 'auc',\n",
    "    'learning_rate': 0.01, \n",
    "    'random_state':4242442,\n",
    "    'subsample':0.33,\n",
    "    'class_weight':'balanced',\n",
    "    'colsample_bytree':0.33,\n",
    "    'reg_lambda':4\n",
    "}\n",
    "\n",
    "h = lgb.cv(params, \n",
    "           lgb_data_train, \n",
    "           num_boost_round=10000,\n",
    "           early_stopping_rounds=50, \n",
    "           verbose_eval=10, \n",
    "           folds=skf.split(df_train, df_train['target_flag'])\n",
    "          )"
   ]
  },
  {
   "cell_type": "markdown",
   "metadata": {},
   "source": [
    "## Домашняя работа 2\n",
    "\n",
    "1. **Обязательная часть**: на том же наборе данных провести feature engineering:\n",
    "    - создать Weights of Evidence (WOE) фичи на тех переменных, где категорий большое количество\n",
    "    - cделать one hot encoding там, где необходимо\n",
    "    - по желанию посчитать каунты (counts)\n",
    "    \n",
    "2. **Обязательная часть**: обучить linear SVM и SVM с нелинейным ядром - сравнить время обучения и результат метрики оценки качества (ROC AUC) двух алгоритмов между собой и сравнить с линейной моделью (лог.рег)"
   ]
  },
  {
   "cell_type": "code",
   "execution_count": null,
   "metadata": {},
   "outputs": [],
   "source": []
  }
 ],
 "metadata": {
  "kernelspec": {
   "display_name": "Python 3",
   "language": "python",
   "name": "python3"
  },
  "language_info": {
   "codemirror_mode": {
    "name": "ipython",
    "version": 3
   },
   "file_extension": ".py",
   "mimetype": "text/x-python",
   "name": "python",
   "nbconvert_exporter": "python",
   "pygments_lexer": "ipython3",
   "version": "3.8.5"
  }
 },
 "nbformat": 4,
 "nbformat_minor": 4
}
